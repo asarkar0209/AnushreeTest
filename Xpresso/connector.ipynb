from xpresso.ai.core.data.connections.connector import DataConnector
from xpresso.ai.core.data.versioning.controller_factory import VersionControllerFactory
from xpresso.ai.core.data.versioning.resource_management.commit_manager\
    import CommitManager
import pprint
pp = pprint.PrettyPrinter(indent=4)
from xpresso.ai.core.data.xdm.structured_dataset import StructuredDataset
from xpresso.ai.core.data.exploration.dataset_explorer import Explorer
import pandas as pd

# create a data connector
xpr_conn = DataConnector()

# set parameters for importing a CSV file
irrs_data_desc = {"type": "FS",
        "data_source":"Local",
        "path": "/home/abzooba/PycharmProjects/xpresso.ai/datasets/Womens Clothing E-Commerce Reviews.csv"}

# import data from a CSV file into a data frame
irrs_data_frame=xpr_conn.getconnector(irrs_data_desc.get("type"),irrs_data_desc.get("data_source")).import_dataframe(irrs_data_desc)
print(irrs_data_frame.head())


dvc_factory = VersionControllerFactory(uid="asarkar", pwd="Abzooba@123", env="qa")
# Create a Repo Manager object
repo_manager = dvc_factory.get_version_controller()

request_manager = dvc_factory.get_version_controller()
commit_manager = CommitManager(request_manager.pachyderm_client)
dataset_object = StructuredDataset()
dataset_object.data = irrs_data_frame
repo_manager.push_dataset(repo_name="xpr_testing_python1_sc", branch_name="anushree_new",
                          dataset=dataset_object, description="Original Review Data")


